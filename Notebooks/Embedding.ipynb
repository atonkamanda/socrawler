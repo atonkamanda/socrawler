{
 "cells": [
  {
   "cell_type": "code",
   "execution_count": 22,
   "id": "7c4db27c",
   "metadata": {},
   "outputs": [],
   "source": [
    "import pandas as pd\n",
    "from transformers import RobertaTokenizer, RobertaConfig, RobertaModel\n",
    "import torch\n",
    "import torch.nn as nn\n",
    "import numpy as np"
   ]
  },
  {
   "cell_type": "code",
   "execution_count": 2,
   "id": "8696db46",
   "metadata": {},
   "outputs": [],
   "source": [
    "df=pd.read_csv('codegit.csv')"
   ]
  },
  {
   "cell_type": "code",
   "execution_count": 3,
   "id": "e32e050e",
   "metadata": {
    "scrolled": true
   },
   "outputs": [
    {
     "data": {
      "text/html": [
       "<div>\n",
       "<style scoped>\n",
       "    .dataframe tbody tr th:only-of-type {\n",
       "        vertical-align: middle;\n",
       "    }\n",
       "\n",
       "    .dataframe tbody tr th {\n",
       "        vertical-align: top;\n",
       "    }\n",
       "\n",
       "    .dataframe thead th {\n",
       "        text-align: right;\n",
       "    }\n",
       "</style>\n",
       "<table border=\"1\" class=\"dataframe\">\n",
       "  <thead>\n",
       "    <tr style=\"text-align: right;\">\n",
       "      <th></th>\n",
       "      <th>Unnamed: 0</th>\n",
       "      <th>code</th>\n",
       "      <th>url</th>\n",
       "    </tr>\n",
       "  </thead>\n",
       "  <tbody>\n",
       "    <tr>\n",
       "      <th>0</th>\n",
       "      <td>0</td>\n",
       "      <td>def train(train_dir, model_save_path=None, n_n...</td>\n",
       "      <td>https://github.com/ageitgey/face_recognition/b...</td>\n",
       "    </tr>\n",
       "    <tr>\n",
       "      <th>1</th>\n",
       "      <td>1</td>\n",
       "      <td>def predict(X_img_path, knn_clf=None, model_pa...</td>\n",
       "      <td>https://github.com/ageitgey/face_recognition/b...</td>\n",
       "    </tr>\n",
       "    <tr>\n",
       "      <th>2</th>\n",
       "      <td>2</td>\n",
       "      <td>def show_prediction_labels_on_image(img_path, ...</td>\n",
       "      <td>https://github.com/ageitgey/face_recognition/b...</td>\n",
       "    </tr>\n",
       "    <tr>\n",
       "      <th>3</th>\n",
       "      <td>3</td>\n",
       "      <td>def _rect_to_css(rect):\\n    \"\"\"\\n    Convert ...</td>\n",
       "      <td>https://github.com/ageitgey/face_recognition/b...</td>\n",
       "    </tr>\n",
       "    <tr>\n",
       "      <th>4</th>\n",
       "      <td>4</td>\n",
       "      <td>def _trim_css_to_bounds(css, image_shape):\\n  ...</td>\n",
       "      <td>https://github.com/ageitgey/face_recognition/b...</td>\n",
       "    </tr>\n",
       "    <tr>\n",
       "      <th>...</th>\n",
       "      <td>...</td>\n",
       "      <td>...</td>\n",
       "      <td>...</td>\n",
       "    </tr>\n",
       "    <tr>\n",
       "      <th>457456</th>\n",
       "      <td>457456</td>\n",
       "      <td>def show_version(self):\\n        \"\"\" custom co...</td>\n",
       "      <td>https://github.com/xnuinside/clifier/blob/3d70...</td>\n",
       "    </tr>\n",
       "    <tr>\n",
       "      <th>457457</th>\n",
       "      <td>457457</td>\n",
       "      <td>def check_path_action(self):\\n        \"\"\" cust...</td>\n",
       "      <td>https://github.com/xnuinside/clifier/blob/3d70...</td>\n",
       "    </tr>\n",
       "    <tr>\n",
       "      <th>457458</th>\n",
       "      <td>457458</td>\n",
       "      <td>def new_user(yaml_path):\\n    '''\\n    Return ...</td>\n",
       "      <td>https://github.com/tklovett/PyShirtsIO/blob/ff...</td>\n",
       "    </tr>\n",
       "    <tr>\n",
       "      <th>457459</th>\n",
       "      <td>457459</td>\n",
       "      <td>def _AddPropertiesForExtensions(descriptor, cl...</td>\n",
       "      <td>https://github.com/ibelie/typy/blob/3616845fb9...</td>\n",
       "    </tr>\n",
       "    <tr>\n",
       "      <th>457460</th>\n",
       "      <td>457460</td>\n",
       "      <td>def _InternalUnpackAny(msg):\\n  \"\"\"Unpacks Any...</td>\n",
       "      <td>https://github.com/ibelie/typy/blob/3616845fb9...</td>\n",
       "    </tr>\n",
       "  </tbody>\n",
       "</table>\n",
       "<p>457461 rows × 3 columns</p>\n",
       "</div>"
      ],
      "text/plain": [
       "        Unnamed: 0                                               code  \\\n",
       "0                0  def train(train_dir, model_save_path=None, n_n...   \n",
       "1                1  def predict(X_img_path, knn_clf=None, model_pa...   \n",
       "2                2  def show_prediction_labels_on_image(img_path, ...   \n",
       "3                3  def _rect_to_css(rect):\\n    \"\"\"\\n    Convert ...   \n",
       "4                4  def _trim_css_to_bounds(css, image_shape):\\n  ...   \n",
       "...            ...                                                ...   \n",
       "457456      457456  def show_version(self):\\n        \"\"\" custom co...   \n",
       "457457      457457  def check_path_action(self):\\n        \"\"\" cust...   \n",
       "457458      457458  def new_user(yaml_path):\\n    '''\\n    Return ...   \n",
       "457459      457459  def _AddPropertiesForExtensions(descriptor, cl...   \n",
       "457460      457460  def _InternalUnpackAny(msg):\\n  \"\"\"Unpacks Any...   \n",
       "\n",
       "                                                      url  \n",
       "0       https://github.com/ageitgey/face_recognition/b...  \n",
       "1       https://github.com/ageitgey/face_recognition/b...  \n",
       "2       https://github.com/ageitgey/face_recognition/b...  \n",
       "3       https://github.com/ageitgey/face_recognition/b...  \n",
       "4       https://github.com/ageitgey/face_recognition/b...  \n",
       "...                                                   ...  \n",
       "457456  https://github.com/xnuinside/clifier/blob/3d70...  \n",
       "457457  https://github.com/xnuinside/clifier/blob/3d70...  \n",
       "457458  https://github.com/tklovett/PyShirtsIO/blob/ff...  \n",
       "457459  https://github.com/ibelie/typy/blob/3616845fb9...  \n",
       "457460  https://github.com/ibelie/typy/blob/3616845fb9...  \n",
       "\n",
       "[457461 rows x 3 columns]"
      ]
     },
     "execution_count": 3,
     "metadata": {},
     "output_type": "execute_result"
    }
   ],
   "source": [
    "df"
   ]
  },
  {
   "cell_type": "code",
   "execution_count": 4,
   "id": "b50bc9ba",
   "metadata": {},
   "outputs": [],
   "source": [
    "df = df.drop(columns=[\"Unnamed: 0\"])"
   ]
  },
  {
   "cell_type": "code",
   "execution_count": 5,
   "id": "d783f73f",
   "metadata": {},
   "outputs": [
    {
     "data": {
      "text/html": [
       "<div>\n",
       "<style scoped>\n",
       "    .dataframe tbody tr th:only-of-type {\n",
       "        vertical-align: middle;\n",
       "    }\n",
       "\n",
       "    .dataframe tbody tr th {\n",
       "        vertical-align: top;\n",
       "    }\n",
       "\n",
       "    .dataframe thead th {\n",
       "        text-align: right;\n",
       "    }\n",
       "</style>\n",
       "<table border=\"1\" class=\"dataframe\">\n",
       "  <thead>\n",
       "    <tr style=\"text-align: right;\">\n",
       "      <th></th>\n",
       "      <th>code</th>\n",
       "      <th>url</th>\n",
       "    </tr>\n",
       "  </thead>\n",
       "  <tbody>\n",
       "    <tr>\n",
       "      <th>0</th>\n",
       "      <td>def train(train_dir, model_save_path=None, n_n...</td>\n",
       "      <td>https://github.com/ageitgey/face_recognition/b...</td>\n",
       "    </tr>\n",
       "    <tr>\n",
       "      <th>1</th>\n",
       "      <td>def predict(X_img_path, knn_clf=None, model_pa...</td>\n",
       "      <td>https://github.com/ageitgey/face_recognition/b...</td>\n",
       "    </tr>\n",
       "    <tr>\n",
       "      <th>2</th>\n",
       "      <td>def show_prediction_labels_on_image(img_path, ...</td>\n",
       "      <td>https://github.com/ageitgey/face_recognition/b...</td>\n",
       "    </tr>\n",
       "    <tr>\n",
       "      <th>3</th>\n",
       "      <td>def _rect_to_css(rect):\\n    \"\"\"\\n    Convert ...</td>\n",
       "      <td>https://github.com/ageitgey/face_recognition/b...</td>\n",
       "    </tr>\n",
       "    <tr>\n",
       "      <th>4</th>\n",
       "      <td>def _trim_css_to_bounds(css, image_shape):\\n  ...</td>\n",
       "      <td>https://github.com/ageitgey/face_recognition/b...</td>\n",
       "    </tr>\n",
       "    <tr>\n",
       "      <th>...</th>\n",
       "      <td>...</td>\n",
       "      <td>...</td>\n",
       "    </tr>\n",
       "    <tr>\n",
       "      <th>457456</th>\n",
       "      <td>def show_version(self):\\n        \"\"\" custom co...</td>\n",
       "      <td>https://github.com/xnuinside/clifier/blob/3d70...</td>\n",
       "    </tr>\n",
       "    <tr>\n",
       "      <th>457457</th>\n",
       "      <td>def check_path_action(self):\\n        \"\"\" cust...</td>\n",
       "      <td>https://github.com/xnuinside/clifier/blob/3d70...</td>\n",
       "    </tr>\n",
       "    <tr>\n",
       "      <th>457458</th>\n",
       "      <td>def new_user(yaml_path):\\n    '''\\n    Return ...</td>\n",
       "      <td>https://github.com/tklovett/PyShirtsIO/blob/ff...</td>\n",
       "    </tr>\n",
       "    <tr>\n",
       "      <th>457459</th>\n",
       "      <td>def _AddPropertiesForExtensions(descriptor, cl...</td>\n",
       "      <td>https://github.com/ibelie/typy/blob/3616845fb9...</td>\n",
       "    </tr>\n",
       "    <tr>\n",
       "      <th>457460</th>\n",
       "      <td>def _InternalUnpackAny(msg):\\n  \"\"\"Unpacks Any...</td>\n",
       "      <td>https://github.com/ibelie/typy/blob/3616845fb9...</td>\n",
       "    </tr>\n",
       "  </tbody>\n",
       "</table>\n",
       "<p>457461 rows × 2 columns</p>\n",
       "</div>"
      ],
      "text/plain": [
       "                                                     code  \\\n",
       "0       def train(train_dir, model_save_path=None, n_n...   \n",
       "1       def predict(X_img_path, knn_clf=None, model_pa...   \n",
       "2       def show_prediction_labels_on_image(img_path, ...   \n",
       "3       def _rect_to_css(rect):\\n    \"\"\"\\n    Convert ...   \n",
       "4       def _trim_css_to_bounds(css, image_shape):\\n  ...   \n",
       "...                                                   ...   \n",
       "457456  def show_version(self):\\n        \"\"\" custom co...   \n",
       "457457  def check_path_action(self):\\n        \"\"\" cust...   \n",
       "457458  def new_user(yaml_path):\\n    '''\\n    Return ...   \n",
       "457459  def _AddPropertiesForExtensions(descriptor, cl...   \n",
       "457460  def _InternalUnpackAny(msg):\\n  \"\"\"Unpacks Any...   \n",
       "\n",
       "                                                      url  \n",
       "0       https://github.com/ageitgey/face_recognition/b...  \n",
       "1       https://github.com/ageitgey/face_recognition/b...  \n",
       "2       https://github.com/ageitgey/face_recognition/b...  \n",
       "3       https://github.com/ageitgey/face_recognition/b...  \n",
       "4       https://github.com/ageitgey/face_recognition/b...  \n",
       "...                                                   ...  \n",
       "457456  https://github.com/xnuinside/clifier/blob/3d70...  \n",
       "457457  https://github.com/xnuinside/clifier/blob/3d70...  \n",
       "457458  https://github.com/tklovett/PyShirtsIO/blob/ff...  \n",
       "457459  https://github.com/ibelie/typy/blob/3616845fb9...  \n",
       "457460  https://github.com/ibelie/typy/blob/3616845fb9...  \n",
       "\n",
       "[457461 rows x 2 columns]"
      ]
     },
     "execution_count": 5,
     "metadata": {},
     "output_type": "execute_result"
    }
   ],
   "source": [
    "df"
   ]
  },
  {
   "cell_type": "code",
   "execution_count": 6,
   "id": "bd26a5f0",
   "metadata": {},
   "outputs": [],
   "source": [
    "tokenizer = RobertaTokenizer.from_pretrained(\"microsoft/codebert-base\")\n",
    "model = RobertaModel.from_pretrained(\"./python_model\")"
   ]
  },
  {
   "cell_type": "code",
   "execution_count": 7,
   "id": "ea93fc87",
   "metadata": {},
   "outputs": [],
   "source": [
    "code_vecs = []"
   ]
  },
  {
   "cell_type": "code",
   "execution_count": 11,
   "id": "45baaf7b",
   "metadata": {},
   "outputs": [],
   "source": [
    "first_10 = df.head(10)"
   ]
  },
  {
   "cell_type": "code",
   "execution_count": 12,
   "id": "5aec8073",
   "metadata": {},
   "outputs": [
    {
     "data": {
      "text/html": [
       "<div>\n",
       "<style scoped>\n",
       "    .dataframe tbody tr th:only-of-type {\n",
       "        vertical-align: middle;\n",
       "    }\n",
       "\n",
       "    .dataframe tbody tr th {\n",
       "        vertical-align: top;\n",
       "    }\n",
       "\n",
       "    .dataframe thead th {\n",
       "        text-align: right;\n",
       "    }\n",
       "</style>\n",
       "<table border=\"1\" class=\"dataframe\">\n",
       "  <thead>\n",
       "    <tr style=\"text-align: right;\">\n",
       "      <th></th>\n",
       "      <th>code</th>\n",
       "    </tr>\n",
       "  </thead>\n",
       "  <tbody>\n",
       "    <tr>\n",
       "      <th>0</th>\n",
       "      <td>def train(train_dir, model_save_path=None, n_n...</td>\n",
       "    </tr>\n",
       "    <tr>\n",
       "      <th>1</th>\n",
       "      <td>def predict(X_img_path, knn_clf=None, model_pa...</td>\n",
       "    </tr>\n",
       "    <tr>\n",
       "      <th>2</th>\n",
       "      <td>def show_prediction_labels_on_image(img_path, ...</td>\n",
       "    </tr>\n",
       "    <tr>\n",
       "      <th>3</th>\n",
       "      <td>def _rect_to_css(rect):\\n    \"\"\"\\n    Convert ...</td>\n",
       "    </tr>\n",
       "    <tr>\n",
       "      <th>4</th>\n",
       "      <td>def _trim_css_to_bounds(css, image_shape):\\n  ...</td>\n",
       "    </tr>\n",
       "    <tr>\n",
       "      <th>5</th>\n",
       "      <td>def face_distance(face_encodings, face_to_comp...</td>\n",
       "    </tr>\n",
       "    <tr>\n",
       "      <th>6</th>\n",
       "      <td>def load_image_file(file, mode='RGB'):\\n    \"\"...</td>\n",
       "    </tr>\n",
       "    <tr>\n",
       "      <th>7</th>\n",
       "      <td>def _raw_face_locations(img, number_of_times_t...</td>\n",
       "    </tr>\n",
       "    <tr>\n",
       "      <th>8</th>\n",
       "      <td>def face_locations(img, number_of_times_to_ups...</td>\n",
       "    </tr>\n",
       "    <tr>\n",
       "      <th>9</th>\n",
       "      <td>def batch_face_locations(images, number_of_tim...</td>\n",
       "    </tr>\n",
       "  </tbody>\n",
       "</table>\n",
       "</div>"
      ],
      "text/plain": [
       "                                                code\n",
       "0  def train(train_dir, model_save_path=None, n_n...\n",
       "1  def predict(X_img_path, knn_clf=None, model_pa...\n",
       "2  def show_prediction_labels_on_image(img_path, ...\n",
       "3  def _rect_to_css(rect):\\n    \"\"\"\\n    Convert ...\n",
       "4  def _trim_css_to_bounds(css, image_shape):\\n  ...\n",
       "5  def face_distance(face_encodings, face_to_comp...\n",
       "6  def load_image_file(file, mode='RGB'):\\n    \"\"...\n",
       "7  def _raw_face_locations(img, number_of_times_t...\n",
       "8  def face_locations(img, number_of_times_to_ups...\n",
       "9  def batch_face_locations(images, number_of_tim..."
      ]
     },
     "execution_count": 12,
     "metadata": {},
     "output_type": "execute_result"
    }
   ],
   "source": [
    "first_10 =first_10.drop(columns=[\"url\"])\n",
    "first_10"
   ]
  },
  {
   "cell_type": "code",
   "execution_count": 13,
   "id": "412dac43",
   "metadata": {},
   "outputs": [],
   "source": [
    "code_list= list(first_10[\"code\"])"
   ]
  },
  {
   "cell_type": "code",
   "execution_count": 14,
   "id": "57b007ee",
   "metadata": {},
   "outputs": [],
   "source": [
    "code_vec = []"
   ]
  },
  {
   "cell_type": "code",
   "execution_count": 15,
   "id": "ddcf3254",
   "metadata": {},
   "outputs": [],
   "source": [
    "for i in range(len(code_list)):\n",
    "    code_vec.append(model(tokenizer(code_list[i],padding=True, truncation=True,return_tensors='pt')['input_ids'])[1])"
   ]
  },
  {
   "cell_type": "code",
   "execution_count": 19,
   "id": "bb8340b9",
   "metadata": {},
   "outputs": [
    {
     "data": {
      "text/plain": [
       "tensor([[-3.9592e-02,  3.2082e-02, -1.3196e-01,  5.3571e-01,  4.4671e-01,\n",
       "         -4.7317e-01, -1.6281e-01, -3.7309e-01, -1.4823e-01, -4.9893e-01,\n",
       "          4.6190e-01, -9.3659e-02, -9.7335e-02, -1.5963e-01,  4.7516e-01,\n",
       "          1.6548e-01,  5.8194e-01,  6.9257e-02, -1.6467e-02,  8.1209e-02,\n",
       "         -5.8535e-01, -3.7737e-02,  7.2033e-01, -1.4497e-01,  1.5167e-01,\n",
       "          1.9869e-01, -3.8060e-01, -4.8527e-01, -1.9563e-01, -7.7647e-01,\n",
       "         -3.3525e-02,  3.8826e-01, -3.8410e-01,  5.2195e-01,  3.1091e-01,\n",
       "         -4.4111e-01, -5.0254e-01, -3.2009e-01, -4.1159e-01,  7.5085e-01,\n",
       "         -1.4550e-01,  6.3541e-01, -4.4225e-02, -1.6334e-01, -2.4933e-01,\n",
       "          2.4670e-01,  3.2201e-01, -2.8897e-01,  1.6425e-01, -6.1522e-01,\n",
       "          1.5439e-02,  2.0161e-01,  4.5323e-01,  1.2760e-01,  5.4669e-01,\n",
       "          5.4889e-01, -2.0058e-02,  1.3617e-01, -4.1741e-01, -5.0672e-01,\n",
       "          4.0425e-01, -3.4088e-01, -3.0737e-02,  9.4565e-02, -2.7729e-01,\n",
       "          2.7636e-01, -3.5193e-02, -1.8697e-01,  1.1537e-01, -1.2296e-01,\n",
       "         -1.5198e-01, -5.5984e-01, -2.5090e-01,  1.2155e-01,  3.5230e-01,\n",
       "          4.2154e-01, -6.6540e-01, -3.6279e-01,  4.9213e-01, -4.4153e-01,\n",
       "          1.0001e-01,  3.4375e-01,  2.5239e-01,  6.8978e-01, -5.7110e-02,\n",
       "          2.4775e-01,  6.2190e-01, -1.8164e-01,  2.2482e-01,  4.4122e-01,\n",
       "         -7.6557e-01, -2.8808e-01, -5.2443e-01, -2.1163e-01,  4.7223e-01,\n",
       "         -5.0506e-01, -5.6287e-01,  3.9723e-01,  4.5774e-01, -2.5341e-01,\n",
       "          1.4305e-01, -2.5871e-02, -2.4172e-01,  3.4422e-01,  9.3040e-02,\n",
       "          1.3154e-01, -6.7261e-01,  9.2655e-01,  4.0047e-01,  5.9375e-02,\n",
       "         -2.1338e-01,  7.2823e-02,  3.4379e-01, -4.7763e-01,  4.0104e-01,\n",
       "          4.5038e-01, -2.2034e-01,  7.1665e-01,  4.9267e-01,  2.2124e-01,\n",
       "         -5.2348e-01, -5.1561e-01,  5.9024e-01, -4.2656e-01,  7.4006e-02,\n",
       "         -2.6808e-01,  3.6583e-01,  4.7028e-01, -4.8954e-01,  2.3437e-01,\n",
       "          2.7200e-01,  5.8445e-01, -1.4263e-01, -4.0055e-01, -2.2256e-01,\n",
       "          1.3259e-01, -6.4042e-01, -8.6722e-01, -1.5910e-02,  3.0195e-01,\n",
       "          4.9781e-01, -9.4725e-02, -2.2171e-01, -5.9728e-01,  1.9564e-02,\n",
       "         -1.5301e-02,  3.0471e-01, -3.7636e-01,  3.0547e-01,  5.6846e-01,\n",
       "          3.7502e-01, -7.3120e-02,  8.4903e-01, -4.0276e-01, -3.6829e-01,\n",
       "          3.0981e-01, -1.8006e-01, -3.6120e-01, -6.9492e-01,  6.5989e-03,\n",
       "         -1.1573e-01, -3.5446e-01,  5.0419e-01, -6.9033e-02,  4.7745e-01,\n",
       "         -2.5505e-01,  4.9874e-01,  3.5503e-01, -5.4086e-01,  5.4086e-01,\n",
       "         -1.3210e-01, -6.5292e-01,  2.0103e-02,  2.4166e-01, -1.0507e-01,\n",
       "         -4.2989e-01,  1.6974e-01, -2.1204e-02,  3.4919e-01,  1.6212e-01,\n",
       "          3.4162e-01, -1.8226e-01, -3.9816e-01,  3.9596e-01,  2.8408e-02,\n",
       "          8.7305e-02, -2.2901e-01,  1.5762e-01, -3.6816e-01,  1.8342e-01,\n",
       "          3.2279e-01, -5.3553e-01, -3.9474e-01,  2.6457e-01,  1.0118e-01,\n",
       "         -2.3556e-01,  3.2336e-02, -6.8727e-02,  6.0090e-01, -5.8677e-01,\n",
       "         -9.7605e-02, -4.7836e-01, -5.8136e-01, -1.3395e-01,  2.9718e-01,\n",
       "         -1.4969e-02,  1.8819e-01,  1.3513e-01, -2.7221e-01,  4.8572e-01,\n",
       "          1.7415e-01, -1.1940e-01,  2.5314e-02,  7.4008e-02, -3.5770e-02,\n",
       "          3.4461e-01,  4.6532e-01,  4.1575e-01,  5.2037e-01, -4.6032e-01,\n",
       "          2.8658e-03, -9.5093e-02,  5.4934e-01,  4.4650e-01, -1.3327e-01,\n",
       "         -3.4132e-01,  1.8609e-01, -6.5352e-01,  1.2506e-01,  1.2905e-01,\n",
       "         -9.0771e-02, -1.8703e-01, -1.9616e-01, -2.4234e-01, -3.5126e-01,\n",
       "         -4.1053e-01,  2.8443e-01,  2.2886e-01, -2.6720e-01, -3.9488e-02,\n",
       "          2.2617e-01, -5.1457e-03, -4.7922e-01, -9.8679e-02,  5.5963e-01,\n",
       "          5.1256e-01, -2.0625e-01, -5.6045e-01,  1.0462e-01,  2.9838e-01,\n",
       "          3.2713e-01, -2.5136e-01,  6.8484e-01, -3.4014e-01, -4.8284e-01,\n",
       "         -2.2852e-01, -1.4728e-01,  1.8044e-01, -8.7955e-02, -8.4040e-01,\n",
       "          3.7011e-01, -2.5873e-01,  3.8974e-01, -7.1071e-01, -4.7472e-01,\n",
       "          7.0286e-01, -6.9781e-02, -1.5832e-01,  1.3566e-01, -5.2181e-01,\n",
       "          2.1318e-01, -2.4539e-01, -6.9577e-02, -3.0547e-02, -2.5353e-01,\n",
       "          6.6109e-01, -2.7068e-01, -1.2247e-01, -1.0098e-01,  1.1399e-01,\n",
       "          8.0455e-02, -4.8774e-01,  2.7562e-01, -1.1041e-01, -1.4675e-01,\n",
       "         -1.6960e-01,  8.2011e-01,  6.4923e-01,  3.8481e-01,  5.4707e-01,\n",
       "         -4.3389e-02,  2.0127e-01,  4.8253e-01, -1.1047e-01,  8.2599e-02,\n",
       "         -1.5935e-01,  4.5081e-01, -4.5185e-02,  3.3636e-01, -1.0617e-01,\n",
       "         -2.4611e-01,  6.9201e-01, -3.0767e-01, -4.1596e-01,  2.1982e-01,\n",
       "         -3.7635e-01, -1.4435e-01,  2.0953e-01,  2.6581e-02, -3.0172e-01,\n",
       "          2.0542e-01,  6.3505e-01,  1.8120e-01, -4.9809e-01, -3.0373e-01,\n",
       "         -1.2518e-01,  4.1003e-01,  1.1547e-01, -4.1831e-01,  3.9124e-01,\n",
       "          1.6151e-01,  7.2604e-02,  2.7467e-01, -4.9519e-01,  2.2096e-01,\n",
       "         -3.9185e-02,  2.9677e-01,  4.7659e-01,  3.8961e-01,  3.1794e-01,\n",
       "          2.1966e-01,  8.6645e-02, -4.9101e-01,  4.9536e-01, -5.0275e-01,\n",
       "         -1.4009e-01, -4.6802e-01,  3.3195e-01, -4.4401e-01,  5.8644e-01,\n",
       "          2.4812e-01, -6.2660e-01,  1.8614e-02,  1.1176e-02, -2.0258e-01,\n",
       "          3.1664e-01, -3.9945e-01,  6.7362e-01,  2.4602e-01,  1.7142e-01,\n",
       "          3.0577e-01,  6.1641e-02, -6.1920e-01, -8.2768e-02, -5.7312e-01,\n",
       "          3.6937e-01,  2.0681e-01,  5.1076e-01, -6.1694e-02,  2.1987e-04,\n",
       "          4.2609e-01,  3.1871e-01, -5.3365e-01,  4.4124e-01,  2.5880e-01,\n",
       "         -9.5960e-03,  1.0456e-01,  8.9557e-02,  2.8496e-01, -2.4784e-01,\n",
       "         -8.1530e-02,  1.5108e-01, -3.5760e-01, -3.4451e-01, -2.8049e-01,\n",
       "         -1.0602e-01,  4.9082e-01,  3.9936e-01, -2.8783e-01,  2.3473e-01,\n",
       "          1.4958e-01,  8.2369e-02,  7.0474e-01,  1.7016e-01,  4.6405e-01,\n",
       "          3.5140e-01,  6.2273e-01,  2.5697e-01, -3.5988e-01,  8.4756e-01,\n",
       "          3.0773e-01, -7.9522e-01, -7.8140e-01, -6.2339e-02,  1.3182e-01,\n",
       "         -3.3749e-01, -8.7839e-02, -3.2543e-01,  5.0195e-01, -4.5310e-01,\n",
       "          5.9775e-01,  3.6841e-01, -1.7828e-01, -2.1263e-01, -4.9217e-01,\n",
       "         -2.9142e-02, -3.1062e-02, -5.0752e-01, -1.2167e-01, -1.8769e-01,\n",
       "         -2.6586e-01, -6.4308e-01, -7.7818e-02, -5.8912e-02, -1.1916e-01,\n",
       "          3.7763e-01, -1.9962e-01,  3.3913e-01,  1.7600e-02, -2.1685e-01,\n",
       "         -4.7428e-02, -3.6874e-02,  1.6050e-02,  5.7273e-02,  4.4071e-01,\n",
       "         -7.3080e-02,  3.5602e-01, -9.2418e-02,  4.1457e-01, -1.9225e-02,\n",
       "         -3.4155e-01, -4.8810e-01,  4.8766e-01, -1.6074e-01,  3.7403e-03,\n",
       "          1.2103e-01,  4.0448e-02,  2.0337e-01, -6.8780e-01,  4.6766e-02,\n",
       "          4.4392e-02,  5.6061e-02, -5.0728e-02,  4.2695e-01,  2.0908e-01,\n",
       "         -5.2682e-01,  5.2174e-01,  4.2018e-01, -1.8587e-01, -1.0539e-01,\n",
       "         -1.5694e-01, -1.5796e-01,  7.6366e-01, -2.4580e-01,  1.1027e-01,\n",
       "          1.5667e-01,  3.8918e-01, -2.8269e-01, -2.8839e-01,  7.8887e-01,\n",
       "         -6.5192e-03, -4.0219e-02,  4.7945e-01, -1.8218e-02, -5.2221e-02,\n",
       "         -2.5224e-02,  2.7327e-01, -4.5422e-01,  1.4735e-01,  2.1385e-01,\n",
       "         -1.6278e-01,  2.3676e-01, -1.7253e-01,  7.0153e-01, -5.5035e-01,\n",
       "          1.0702e-01,  1.6591e-01, -5.3467e-01,  8.1026e-01, -3.7842e-01,\n",
       "         -5.7184e-01, -2.9005e-01, -7.0226e-01,  4.0495e-01, -4.3530e-01,\n",
       "          7.0305e-01, -7.1105e-01,  3.8312e-01,  2.3842e-01, -2.6828e-01,\n",
       "          6.0146e-02, -2.0815e-02, -2.3024e-01, -5.6217e-01, -2.9868e-02,\n",
       "          7.2170e-01, -7.6197e-01, -2.3802e-01,  3.6351e-01,  4.5596e-01,\n",
       "          3.0924e-01, -1.6210e-01,  3.4377e-01, -5.1113e-01,  3.4819e-01,\n",
       "         -1.4996e-01, -1.4844e-01,  9.0841e-01,  5.2420e-02, -4.3301e-01,\n",
       "          1.0810e-01, -3.1447e-01,  2.9995e-01,  3.3710e-01, -5.7273e-01,\n",
       "          5.6939e-02,  4.2595e-01, -6.0815e-02,  1.8263e-01,  2.5905e-01,\n",
       "         -2.6614e-01, -2.1350e-01,  1.0472e-01, -4.1895e-01,  3.9862e-02,\n",
       "         -1.7625e-03,  7.9433e-02,  5.9495e-01, -2.4978e-01,  3.2823e-01,\n",
       "          3.9129e-01, -5.0581e-01, -5.4875e-01,  6.7981e-01, -9.8934e-02,\n",
       "          1.9298e-02, -6.4883e-02, -8.6636e-02,  8.8179e-01,  1.5723e-02,\n",
       "         -6.1506e-01, -3.6035e-02,  2.7533e-01,  3.7163e-01,  5.1665e-02,\n",
       "         -2.0961e-01, -5.6961e-01,  2.4315e-01,  4.4882e-02, -3.4574e-01,\n",
       "          3.8734e-01,  4.1669e-01, -6.7419e-01,  1.7686e-01, -4.3069e-01,\n",
       "         -3.9276e-01,  1.0723e-01, -2.4406e-01,  3.2128e-01,  7.8067e-01,\n",
       "          3.3083e-01, -2.4997e-01, -2.2498e-01, -2.8616e-01,  3.6732e-01,\n",
       "          2.0788e-01,  5.9091e-01,  1.1299e-01,  3.1348e-01,  1.5544e-01,\n",
       "          5.9826e-01,  5.6486e-01,  4.7855e-01, -8.1016e-01,  3.2142e-01,\n",
       "          2.4368e-01, -1.9886e-01,  4.8997e-02,  1.2973e-01,  2.7208e-01,\n",
       "          5.6111e-01, -4.0418e-01,  6.9732e-02,  8.5209e-02,  7.6917e-01,\n",
       "          7.3736e-01,  4.4043e-01,  2.3977e-02, -2.1599e-01,  4.5525e-01,\n",
       "         -5.2580e-01,  2.9254e-01, -2.2897e-01,  1.7622e-01, -3.6990e-01,\n",
       "          4.2565e-02, -5.0344e-02,  3.9087e-01,  2.1592e-01,  1.3561e-01,\n",
       "          1.6052e-01, -2.9381e-01, -2.1778e-01, -3.1274e-01, -4.2278e-01,\n",
       "         -2.4190e-01,  5.4937e-01, -4.2427e-02, -5.8610e-02,  2.6660e-02,\n",
       "          5.2448e-01,  7.9058e-01, -1.0564e-01,  1.4582e-01,  6.3428e-01,\n",
       "          5.7778e-01, -1.2217e-02, -8.2403e-01, -1.9210e-01, -1.8214e-01,\n",
       "          4.6427e-01, -1.6690e-02, -1.8932e-01, -1.3926e-01, -1.7155e-01,\n",
       "          6.4106e-01,  4.3721e-01,  6.2868e-01,  2.7707e-01,  5.0902e-01,\n",
       "          2.7284e-01, -3.2255e-01,  5.0702e-01, -2.5556e-01,  3.6755e-01,\n",
       "          3.6938e-01, -2.7908e-01,  4.9691e-01, -9.5127e-02,  3.9411e-01,\n",
       "          7.7084e-02, -1.1891e-01, -2.3110e-01, -6.4752e-02,  7.7254e-01,\n",
       "         -1.0043e-01, -1.2996e-01, -2.2219e-02, -6.0713e-01, -3.4694e-01,\n",
       "          3.6981e-01, -1.0046e-01,  4.1694e-01,  9.8260e-02, -9.2660e-02,\n",
       "          2.1956e-01, -5.9099e-01,  1.9850e-01, -6.0363e-01,  5.2115e-01,\n",
       "          3.0586e-01,  2.4280e-01, -8.3109e-02,  2.1527e-01,  5.3247e-01,\n",
       "          7.7393e-01, -6.7837e-01,  1.2147e-01, -3.3575e-01,  6.1148e-01,\n",
       "          6.5896e-01,  1.1715e-01, -2.6822e-01,  2.6068e-01,  4.3470e-01,\n",
       "         -7.5344e-02, -3.8687e-02,  3.5236e-01,  5.9761e-02, -1.4353e-01,\n",
       "          4.6529e-02, -2.3815e-01, -6.2804e-01,  1.3540e-02, -2.6127e-01,\n",
       "          1.8856e-01,  3.1977e-03, -6.4564e-02,  2.8228e-03, -1.2829e-01,\n",
       "         -2.4199e-01,  3.2177e-01, -2.7726e-01,  5.0174e-01, -4.1880e-01,\n",
       "         -2.6421e-01,  4.4993e-01, -1.9938e-01,  2.4740e-01, -1.0079e-01,\n",
       "          6.6785e-01,  3.0861e-01,  4.9293e-01, -1.6399e-01, -4.5871e-01,\n",
       "          1.0284e-01,  1.5171e-01,  2.2110e-01,  4.2571e-01,  5.7537e-01,\n",
       "          6.5432e-01,  1.0389e-01,  1.7316e-01, -1.5959e-01,  3.8984e-01,\n",
       "          5.6123e-01, -9.8110e-02,  6.6192e-01, -7.3875e-03, -4.9949e-01,\n",
       "         -5.6000e-01,  5.2191e-01, -1.1650e-01,  5.2702e-01,  3.8851e-01,\n",
       "         -3.1856e-01,  6.7937e-01, -2.0609e-01, -2.1102e-01,  2.2377e-01,\n",
       "          2.8854e-01,  1.8824e-01, -6.6748e-01, -4.4358e-01,  5.0830e-01,\n",
       "         -4.2421e-01,  3.4878e-01,  3.4061e-01,  7.3890e-01,  6.8104e-01,\n",
       "          3.8273e-02,  7.3810e-01, -3.5252e-01, -4.2602e-01, -1.8968e-01,\n",
       "         -1.4929e-01, -2.7268e-01,  2.0529e-02,  5.1388e-01, -1.7901e-01,\n",
       "         -4.0137e-01,  6.3748e-01,  4.1339e-01, -7.5229e-01,  1.7737e-01,\n",
       "          2.0380e-01, -3.0091e-01,  2.0703e-01,  4.0775e-03, -2.7168e-01,\n",
       "         -3.4184e-01, -5.0439e-01,  2.2805e-01, -1.5075e-01,  5.9283e-01,\n",
       "          1.7417e-01, -2.6431e-01,  3.5434e-01]], grad_fn=<TanhBackward>)"
      ]
     },
     "execution_count": 19,
     "metadata": {},
     "output_type": "execute_result"
    }
   ],
   "source": [
    "code_vec[0]"
   ]
  },
  {
   "cell_type": "code",
   "execution_count": 20,
   "id": "38c2ceb3",
   "metadata": {},
   "outputs": [],
   "source": [
    "code_concat=torch.cat((code_vec),0)"
   ]
  },
  {
   "cell_type": "markdown",
   "id": "be311d53",
   "metadata": {},
   "source": [
    "# Test"
   ]
  },
  {
   "cell_type": "code",
   "execution_count": 86,
   "id": "f175be61",
   "metadata": {},
   "outputs": [
    {
     "data": {
      "text/plain": [
       "'def to_arrow_schema(schema):\\n    \"\"\" Convert a schema from Spark to Arrow\\n    \"\"\"\\n    import pyarrow as pa\\n    fields = [pa.field(field.name, to_arrow_type(field.dataType), nullable=field.nullable)\\n              for field in schema]\\n    return pa.schema(fields)'"
      ]
     },
     "execution_count": 86,
     "metadata": {},
     "output_type": "execute_result"
    }
   ],
   "source": [
    "df[\"code\"][20]"
   ]
  },
  {
   "cell_type": "code",
   "execution_count": 90,
   "id": "a82cfaf7",
   "metadata": {},
   "outputs": [
    {
     "data": {
      "text/plain": [
       "tensor([[6.4861e-28, 2.5747e-30, 4.1739e-29, 1.7772e-18, 6.2551e-23, 1.7374e-29,\n",
       "         3.8507e-26, 2.7865e-32, 4.6487e-33, 2.8920e-33, 1.1602e-26, 7.0347e-26,\n",
       "         1.8042e-20, 9.2079e-24, 5.2336e-19, 2.7833e-16, 2.4722e-28, 1.7567e-14,\n",
       "         7.0050e-24, 3.0918e-04, 9.9969e-01]], grad_fn=<SoftmaxBackward>)"
      ]
     },
     "execution_count": 90,
     "metadata": {},
     "output_type": "execute_result"
    }
   ],
   "source": [
    "query = \"convert scheme from spark to arrow\"\n",
    "query_vec = model(tokenizer(query,return_tensors='pt')['input_ids'])[1]\n",
    "scores=torch.einsum(\"ab,cb->ac\",query_vec,code_concat)\n",
    "scores=torch.softmax(scores,-1)\n",
    "scores"
   ]
  },
  {
   "cell_type": "markdown",
   "id": "e17b4b59",
   "metadata": {},
   "source": [
    "# Inference"
   ]
  },
  {
   "cell_type": "code",
   "execution_count": 87,
   "id": "2c3f1fdb",
   "metadata": {},
   "outputs": [],
   "source": [
    "new_vec = model(tokenizer(df[\"code\"][20],padding=True, truncation=True,return_tensors='pt')['input_ids'])[1]"
   ]
  },
  {
   "cell_type": "markdown",
   "id": "daf03439",
   "metadata": {},
   "source": [
    "# Concatenation"
   ]
  },
  {
   "cell_type": "code",
   "execution_count": 88,
   "id": "3c1d0467",
   "metadata": {},
   "outputs": [],
   "source": [
    "code_concat=torch.cat((code_concat,new_vec),0)"
   ]
  },
  {
   "cell_type": "markdown",
   "id": "0a9c86ba",
   "metadata": {},
   "source": [
    "# Saving vector space"
   ]
  },
  {
   "cell_type": "code",
   "execution_count": 91,
   "id": "c5a46cc6",
   "metadata": {},
   "outputs": [],
   "source": [
    "torch.save(code_concat, 'vector_space_20.pt')"
   ]
  },
  {
   "cell_type": "code",
   "execution_count": 92,
   "id": "d054c6e0",
   "metadata": {},
   "outputs": [],
   "source": [
    "test = torch.load('vector_space_20.pt')"
   ]
  },
  {
   "cell_type": "code",
   "execution_count": 107,
   "id": "cc25c8c8",
   "metadata": {},
   "outputs": [
    {
     "data": {
      "text/plain": [
       "'def _raw_face_locations(img, number_of_times_to_upsample=1, model=\"hog\"):\\n    \"\"\"\\n    Returns an array of bounding boxes of human faces in a image\\n\\n    :param img: An image (as a numpy array)\\n    :param number_of_times_to_upsample: How many times to upsample the image looking for faces. Higher numbers find smaller faces.\\n    :param model: Which face detection model to use. \"hog\" is less accurate but faster on CPUs. \"cnn\" is a more accurate\\n                  deep-learning model which is GPU/CUDA accelerated (if available). The default is \"hog\".\\n    :return: A list of dlib \\'rect\\' objects of found face locations\\n    \"\"\"\\n    if model == \"cnn\":\\n        return cnn_face_detector(img, number_of_times_to_upsample)\\n    else:\\n        return face_detector(img, number_of_times_to_upsample)'"
      ]
     },
     "execution_count": 107,
     "metadata": {},
     "output_type": "execute_result"
    }
   ],
   "source": [
    "query = \"face features\"\n",
    "query_vec = model(tokenizer(query,return_tensors='pt')['input_ids'])[1]\n",
    "scores=torch.einsum(\"ab,cb->ac\",query_vec,test)\n",
    "scores=torch.softmax(scores,-1)\n",
    "prediction =torch.argmax(scores)\n",
    "df['code'][int(prediction)]"
   ]
  }
 ],
 "metadata": {
  "kernelspec": {
   "display_name": "Python 3",
   "language": "python",
   "name": "python3"
  },
  "language_info": {
   "codemirror_mode": {
    "name": "ipython",
    "version": 3
   },
   "file_extension": ".py",
   "mimetype": "text/x-python",
   "name": "python",
   "nbconvert_exporter": "python",
   "pygments_lexer": "ipython3",
   "version": "3.8.8"
  }
 },
 "nbformat": 4,
 "nbformat_minor": 5
}
